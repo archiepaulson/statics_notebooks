{
 "cells": [
  {
   "cell_type": "markdown",
   "metadata": {},
   "source": [
    "# Examples 2 -- Vectors"
   ]
  },
  {
   "cell_type": "markdown",
   "metadata": {},
   "source": [
    "The following examples use the vector concepts from chapter 2.\n",
    "\n",
    "Contents:\n",
    "- [A. vector sum](#A)\n",
    "- [B. find force vector](#B)\n",
    "- [C. find parallel and perpendicular components](#C)\n",
    "- [D. find minimum force required](#D)             \n",
    "- [E. find minimum force required](#E)             \n",
    "- [F. find n-t force components](#F)               \n",
    "- [G. 3D vector sum](#G)                           \n",
    "- [H. vector from direction cosines](#H)           \n",
    "- [I. component of force along a line](#I)         \n",
    "- [J. component of force along a line, again](#J)  \n",
    "\n"
   ]
  },
  {
   "cell_type": "code",
   "execution_count": 1,
   "metadata": {},
   "outputs": [],
   "source": [
    "from numpy import *\n",
    "dtr = pi/180  # factor for degree-to-radian conversion\n",
    "from matplotlib.pyplot import *\n",
    "%matplotlib inline"
   ]
  },
  {
   "cell_type": "markdown",
   "metadata": {},
   "source": [
    "\n",
    "<a name=\"A\"></a>\n",
    "\n",
    "\n",
    "## A. vector sum\n",
    "\n",
    "<img src=\"images/P2-25.png\" />"
   ]
  },
  {
   "cell_type": "code",
   "execution_count": 2,
   "metadata": {},
   "outputs": [
    {
     "name": "stdout",
     "output_type": "stream",
     "text": [
      "Fa=113.97649816516014 N and Fb=233.68645203778343 N\n"
     ]
    }
   ],
   "source": [
    "Q = 64*dtr\n",
    "R_mag = 260.  # N\n",
    "Fa = R_mag * cos(Q)\n",
    "Fb = R_mag * sin(Q)\n",
    "print ('Fa={} N and Fb={} N'.format(Fa,Fb))"
   ]
  },
  {
   "cell_type": "markdown",
   "metadata": {},
   "source": [
    "<a name=\"B\"></a>\n",
    "\n",
    "\n",
    "## B. find force vector\n",
    "\n",
    "<img src=\"images/P2-26.png\" />"
   ]
  },
  {
   "cell_type": "code",
   "execution_count": 3,
   "metadata": {},
   "outputs": [],
   "source": [
    "Q1 = 67*dtr\n",
    "Q2 = -47*dtr\n",
    "R_mag = 280.  # N"
   ]
  },
  {
   "cell_type": "markdown",
   "metadata": {},
   "source": [
    "$F_{net,x} = F_{a,x} = F_a \\cos \\theta_2$\n",
    "\n",
    "$F_{net,y} = F_{a,y} + F_b =  F_a \\sin \\theta_2 + F_b$"
   ]
  },
  {
   "cell_type": "code",
   "execution_count": 4,
   "metadata": {},
   "outputs": [
    {
     "name": "stdout",
     "output_type": "stream",
     "text": [
      "Fa magnitude= 160.4178578478851 N\n",
      "Fa direction= -47.0 deg\n",
      "Fb magnitude= 375.063553109552 N\n",
      "Fb direction= 90.0 deg\n"
     ]
    }
   ],
   "source": [
    "Fnet_x = R_mag * cos(Q1)\n",
    "Fnet_y = R_mag * sin(Q1)\n",
    "Fa = Fnet_x / cos(Q2)\n",
    "Fb = Fnet_y - Fa*sin(Q2)\n",
    "print ('Fa magnitude=',Fa,'N')\n",
    "print ('Fa direction=',Q2/dtr,'deg')\n",
    "print ('Fb magnitude=',Fb,'N')\n",
    "print ('Fb direction=',90.,'deg')"
   ]
  },
  {
   "cell_type": "markdown",
   "metadata": {},
   "source": [
    "Alternatively, you could use the law of sines as follows:"
   ]
  },
  {
   "cell_type": "code",
   "execution_count": 5,
   "metadata": {},
   "outputs": [
    {
     "name": "stdout",
     "output_type": "stream",
     "text": [
      "angles are 22.999999999999993 42.99999999999999 114.0\n",
      "Fa magnitude= 160.41785784788507 N\n",
      "Fb magnitude= 375.06355310955195 N\n"
     ]
    }
   ],
   "source": [
    "phi1,phi2,phi3 = pi/2-abs(Q1), pi/2-abs(Q2), abs(Q1)+abs(Q2)\n",
    "Fa = R_mag*sin(phi1)/sin(phi2)\n",
    "Fb = R_mag*sin(phi3)/sin(phi2)\n",
    "print ('angles are',phi1/dtr,phi2/dtr,phi3/dtr)\n",
    "print ('Fa magnitude=',Fa,'N')\n",
    "print ('Fb magnitude=',Fb,'N')"
   ]
  },
  {
   "cell_type": "markdown",
   "metadata": {},
   "source": [
    "<a name=\"C\"></a>\n",
    "\n",
    "## C. find parallel and perpendicular components\n",
    "\n",
    "<img src=\"images/P2-27.png\" />"
   ]
  },
  {
   "cell_type": "code",
   "execution_count": 6,
   "metadata": {},
   "outputs": [
    {
     "name": "stdout",
     "output_type": "stream",
     "text": [
      "F_perp=21.791543987498244 lb and F_para=42.76831316104166 lb\n"
     ]
    }
   ],
   "source": [
    "F = 48.0   # lb\n",
    "Q = 27.*dtr\n",
    "F_perp = F*sin(Q)\n",
    "F_para = F*cos(Q)\n",
    "print ('F_perp={} lb and F_para={} lb'.format(F_perp,F_para))"
   ]
  },
  {
   "cell_type": "markdown",
   "metadata": {},
   "source": [
    "<a name=\"D\"></a>\n",
    "\n",
    "## D. find minimum force required\n",
    "\n",
    "<img src=\"images/P2-32.png\" />"
   ]
  },
  {
   "cell_type": "code",
   "execution_count": 7,
   "metadata": {},
   "outputs": [],
   "source": [
    "F1_mag, F2_mag = 3.7, 2.0  # kN\n",
    "Q1, Q2 = (180+60)*dtr, (180-30)*dtr"
   ]
  },
  {
   "cell_type": "markdown",
   "metadata": {},
   "source": [
    "Sum of $y$ forces equals zero. $F_{1y} +F_{2y} +F_{y} = 0$."
   ]
  },
  {
   "cell_type": "code",
   "execution_count": 8,
   "metadata": {},
   "outputs": [
    {
     "name": "stdout",
     "output_type": "stream",
     "text": [
      "Fy= 2.2042939940024224 kN\n",
      "Fx must be zero for smallest F magnitude\n"
     ]
    }
   ],
   "source": [
    "F1_y = F1_mag*sin(Q1)\n",
    "F2_y = F2_mag*sin(Q2)\n",
    "print ('Fy=',-F1_y-F2_y,'kN')\n",
    "print ('Fx must be zero for smallest F magnitude')"
   ]
  },
  {
   "cell_type": "markdown",
   "metadata": {},
   "source": [
    "<a name=\"E\"></a>\n",
    "\n",
    "\n",
    "## E. find minimum force required\n",
    "\n",
    "\n",
    "<img src=\"images/P2-53.png\" />"
   ]
  },
  {
   "cell_type": "markdown",
   "metadata": {},
   "source": [
    "$\\vec R = \\vec F_1 + \\vec F_2 + \\vec F$\n",
    "\n",
    "$R^2 = (F_{1x} + F \\cos \\alpha)^2 + (F_{2y} + F \\sin \\alpha)^2$"
   ]
  },
  {
   "cell_type": "code",
   "execution_count": 9,
   "metadata": {},
   "outputs": [],
   "source": [
    "alpha = 45*dtr\n",
    "F1x = -11.0  #kN\n",
    "F2y =  -8.0  #kN"
   ]
  },
  {
   "cell_type": "code",
   "execution_count": 10,
   "metadata": {},
   "outputs": [
    {
     "data": {
      "text/plain": [
       "[<matplotlib.lines.Line2D at 0x18b15f9b5c0>]"
      ]
     },
     "execution_count": 10,
     "metadata": {},
     "output_type": "execute_result"
    },
    {
     "data": {
      "image/png": "[encoded data removed]",
      "text/plain": [
       "<matplotlib.figure.Figure at 0x18b15ecf080>"
      ]
     },
     "metadata": {},
     "output_type": "display_data"
    }
   ],
   "source": [
    "F = arange(0.,20.,0.1)\n",
    "R2 = (F1x+F*cos(alpha))**2 + (F2y+F*sin(alpha))**2\n",
    "plot(F,R2)"
   ]
  },
  {
   "cell_type": "markdown",
   "metadata": {},
   "source": [
    "$\\frac{d}{dF}R^2 = 2(F_{1x} + F \\cos \\alpha)\\cos \\alpha + 2(F_{2y} + F \\sin \\alpha)\\sin \\alpha =0$\n",
    "\n",
    "$F_0 = - F_{1x} \\cos \\alpha - F_{2y} \\sin \\alpha$"
   ]
  },
  {
   "cell_type": "code",
   "execution_count": 11,
   "metadata": {},
   "outputs": [
    {
     "name": "stdout",
     "output_type": "stream",
     "text": [
      "min F= 13.435028842544405 kN\n"
     ]
    }
   ],
   "source": [
    "F = -F1x*cos(alpha) - F2y*sin(alpha)\n",
    "print ('min F=',F,'kN')"
   ]
  },
  {
   "cell_type": "markdown",
   "metadata": {},
   "source": [
    "<a name=\"F\"></a>\n",
    "\n",
    "## F. find n-t force components\n",
    "\n",
    "<img src=\"images/P2-56.png\" />"
   ]
  },
  {
   "cell_type": "code",
   "execution_count": 12,
   "metadata": {},
   "outputs": [],
   "source": [
    "W = 219.  # N\n",
    "F = 82.   # N\n",
    "Q = 30*dtr"
   ]
  },
  {
   "cell_type": "code",
   "execution_count": 13,
   "metadata": {},
   "outputs": [
    {
     "name": "stdout",
     "output_type": "stream",
     "text": [
      "Rx= 82.0\n",
      "Ry= -219.0\n",
      "Rt= -38.485916889676005\n",
      "Rn= -230.65956342879207\n"
     ]
    }
   ],
   "source": [
    "R = array((F,-W))\n",
    "t = array((cos(Q),sin(Q)))\n",
    "n = array((-sin(Q),cos(Q)))\n",
    "Rt = dot(R,t)\n",
    "Rn = dot(R,n)\n",
    "print ('Rx=',R[0])\n",
    "print ('Ry=',R[1])\n",
    "print ('Rt=',Rt)\n",
    "print ('Rn=',Rn)"
   ]
  },
  {
   "cell_type": "markdown",
   "metadata": {},
   "source": [
    "<a name=\"G\"></a>\n",
    "\n",
    "## G. 3D vector sum\n",
    "\n",
    "\n",
    "<img src=\"images/P2-76.png\" />"
   ]
  },
  {
   "cell_type": "code",
   "execution_count": 14,
   "metadata": {},
   "outputs": [],
   "source": [
    "Qmag, Pmag, Fmag =  6., 5., 3.       # kN\n",
    "Q = Qmag* array((-2.,2.,1)) / sqrt(4+4+1)\n",
    "Pz = Pmag*cos(51*dtr)\n",
    "Pxy = sqrt( Pmag**2 - Pz**2 )        # component of P in the xy plane\n",
    "Px,Py = -Pxy*cos(30*dtr), Pxy*sin(30*dtr)\n",
    "P = array((Px,Py,Pz))\n",
    "F = Fmag* array(( cos(45*dtr), cos(60*dtr), cos(60*dtr) ))"
   ]
  },
  {
   "cell_type": "code",
   "execution_count": 15,
   "metadata": {},
   "outputs": [
    {
     "name": "stdout",
     "output_type": "stream",
     "text": [
      "Q= [-4.  4.  2.] kN\n",
      "P= [-3.36514073  1.9428649   3.14660196] kN\n",
      "F= [2.12132034 1.5        1.5       ] kN\n",
      "R= [-5.24382038  7.4428649   6.64660196] kN\n"
     ]
    }
   ],
   "source": [
    "R = Q+P+F\n",
    "print ('Q=',Q,'kN')\n",
    "print ('P=',P,'kN')\n",
    "print ('F=',F,'kN')\n",
    "print ('R=',R,'kN')"
   ]
  },
  {
   "cell_type": "markdown",
   "metadata": {},
   "source": [
    "<a name=\"H\"></a>\n",
    "\n",
    "## H. vector from direction cosines\n",
    "\n",
    "<img src=\"images/P2-80.png\" />"
   ]
  },
  {
   "cell_type": "code",
   "execution_count": 16,
   "metadata": {},
   "outputs": [
    {
     "name": "stdout",
     "output_type": "stream",
     "text": [
      "distance rAB= 5.102745241534208 km\n"
     ]
    }
   ],
   "source": [
    "rOA = 2.*array(( 0.768, -0.384,  0.514 ))   # km\n",
    "rOB = 5.*array(( 0.744,  0.559, -0.380 ))   # km\n",
    "rAB = rOB - rOA\n",
    "rAB_mag = sqrt(sum(rAB**2))\n",
    "\n",
    "print ('distance rAB=',rAB_mag,'km')"
   ]
  },
  {
   "cell_type": "markdown",
   "metadata": {},
   "source": [
    "\n",
    "<a name=\"I\"></a>\n",
    "\n",
    "## I. component of force along a line\n",
    "\n",
    "\n",
    "<img src=\"images/P2-112.png\" />"
   ]
  },
  {
   "cell_type": "code",
   "execution_count": 17,
   "metadata": {},
   "outputs": [],
   "source": [
    "radius = 155                 # mm\n",
    "b,h,d,z = 4, 3, 265, 245     # mm\n",
    "Cz = 350.                      # mm\n",
    "Fmag = 100.                    # N"
   ]
  },
  {
   "cell_type": "markdown",
   "metadata": {},
   "source": [
    "First find $\\vec{r}_{CD} = \\vec{r}_{OD} - \\vec{r}_{OC}$. Then convert this to a unit vector and find $\\vec{r}_{CE}= d \\; \\hat{u}_{CD}$."
   ]
  },
  {
   "cell_type": "code",
   "execution_count": 18,
   "metadata": {},
   "outputs": [],
   "source": [
    "rOC = array((0.,0.,Cz))\n",
    "rOD = radius * array((b,h,0)) / sqrt(b**2+h**2)\n",
    "rCD = rOD - rOC\n",
    "uCD = rCD / sqrt(sum(rCD**2))\n",
    "rCE = d*uCD"
   ]
  },
  {
   "cell_type": "markdown",
   "metadata": {},
   "source": [
    "Next find unit vector $\\hat{u}_{GE}$, then $\\vec{F} = - F_{mag} \\hat{u}_{GE}$."
   ]
  },
  {
   "cell_type": "code",
   "execution_count": 19,
   "metadata": {},
   "outputs": [],
   "source": [
    "rOG = array(( 0., radius, z ))\n",
    "rOE = rOC + rCE\n",
    "rGE = rOE - rOG\n",
    "uGE = rGE / sqrt(sum(rGE**2))\n",
    "F = -Fmag * uGE"
   ]
  },
  {
   "cell_type": "markdown",
   "metadata": {},
   "source": [
    "Finally dot products will give the desired solution."
   ]
  },
  {
   "cell_type": "code",
   "execution_count": 20,
   "metadata": {},
   "outputs": [
    {
     "name": "stdout",
     "output_type": "stream",
     "text": [
      "Fpara in direction of uCD= -70.7776075797882 N\n",
      "   (negative implies bead slides toward C)\n",
      "magnitude of Fperp= 70.64368524703045 N\n",
      "Fpara= [-22.92776378 -17.19582284  64.71546229] N\n",
      "Fperp= [-23.33445887  66.02992849   9.27802986] N\n"
     ]
    }
   ],
   "source": [
    "Fpara_CD = dot(F,uCD)\n",
    "Fpara = Fpara_CD * uCD\n",
    "Fperp = F - Fpara  \n",
    "Fperp_mag = sqrt(sum(Fperp**2))\n",
    "print ('Fpara in direction of uCD=', Fpara_CD,  'N')\n",
    "print ('   (negative implies bead slides toward C)')\n",
    "print ('magnitude of Fperp=', Fperp_mag, 'N')\n",
    "print ('Fpara=', Fpara, 'N')\n",
    "print ('Fperp=', Fperp, 'N')"
   ]
  },
  {
   "cell_type": "markdown",
   "metadata": {},
   "source": [
    "Note $\\vec{F}_{\\parallel}$ is implicitly defined to be\n",
    "\n",
    "$$F_{\\parallel} = \\vec{F} \\cdot \\hat{u}_{CD}$$"
   ]
  },
  {
   "cell_type": "markdown",
   "metadata": {},
   "source": [
    "<a name=\"J\"></a>\n",
    "\n",
    "## J. component of force along a line, again\n",
    "\n",
    "<img src=\"images/P2-127.png\" />"
   ]
  },
  {
   "cell_type": "code",
   "execution_count": 21,
   "metadata": {},
   "outputs": [],
   "source": [
    "rOB = array(( -45.,  0.,  130 ))  # in\n",
    "rOC = array(( 120.,  95., 0.  ))  # in\n",
    "rOD = array((   0.,  95., 50. ))  # in\n",
    "f = 1./4       # fraction of the distance up the chute\n",
    "F_chute = 450.                    # lb"
   ]
  },
  {
   "cell_type": "markdown",
   "metadata": {},
   "source": [
    "$F_{chute} = \\vec{F} \\cdot \\hat{u}_{CD} =  F \\hat{u}_{AB} \\cdot \\hat{u}_{CD}  $"
   ]
  },
  {
   "cell_type": "code",
   "execution_count": 22,
   "metadata": {},
   "outputs": [
    {
     "name": "stdout",
     "output_type": "stream",
     "text": [
      "cable force= 536.9635344055264 lb\n"
     ]
    }
   ],
   "source": [
    "rCD = rOD - rOC\n",
    "uCD = rCD / sqrt(sum(rCD**2))\n",
    "rOA = rOC + f*rCD\n",
    "rAB = rOB - rOA\n",
    "uAB = rAB / sqrt(sum(rAB**2))\n",
    "F = F_chute / dot(uAB,uCD)\n",
    "print ('cable force=',F,'lb')"
   ]
  }
 ],
 "metadata": {
  "anaconda-cloud": {},
  "kernelspec": {
   "display_name": "Python 3",
   "language": "python",
   "name": "python3"
  },
  "language_info": {
   "codemirror_mode": {
    "name": "ipython",
    "version": 3
   },
   "file_extension": ".py",
   "mimetype": "text/x-python",
   "name": "python",
   "nbconvert_exporter": "python",
   "pygments_lexer": "ipython3",
   "version": "3.6.4"
  }
 },
 "nbformat": 4,
 "nbformat_minor": 1
}
