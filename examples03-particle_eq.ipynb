{
 "cells": [
  {
   "cell_type": "markdown",
   "metadata": {},
   "source": [
    "#  Examples 3 -- Particle Equilibrium\n",
    "\n",
    "Contents:\n",
    "- [A. Object on a ramp](#A)\n",
    "- [B. Failure limit](#B)\n",
    "- [C. Simple spring](#C)\n",
    "- [D. Simple spring 2](#D)             \n",
    "- [E. Multiple springs](#E)             \n",
    "- [F. 3D equilibrium ](#F)               \n",
    "- [G. 3D equilibrium (2)](#G)                           \n"
   ]
  },
  {
   "cell_type": "code",
   "execution_count": 1,
   "metadata": {},
   "outputs": [],
   "source": [
    "from numpy import *\n",
    "dtr = pi/180  # factor for degree-to-radian conversion"
   ]
  },
  {
   "cell_type": "markdown",
   "metadata": {},
   "source": [
    "<a name=\"A\"></a>\n",
    "\n",
    "## A. Object on a ramp\n",
    "\n",
    "<img src=\"images/P3-25.png\" />"
   ]
  },
  {
   "cell_type": "code",
   "execution_count": 2,
   "metadata": {},
   "outputs": [],
   "source": [
    "x1,x2 = 0.8,3.9     # m; left-to-right\n",
    "y1,y2 = 1.6,2.1     # m; bottom, top\n",
    "W = 260.0                        # N\n",
    "f = 3./4                         # fraction of distance from D to E\n",
    "rBD = array((    x1,    -y2 ))   # m\n",
    "rBE = array(( x1+x2, -y1-y2 ))   # m"
   ]
  },
  {
   "cell_type": "code",
   "execution_count": 3,
   "metadata": {},
   "outputs": [
    {
     "name": "stdout",
     "output_type": "stream",
     "text": [
      "verify that we have uperp correct:\n",
      "    uperp= [0.37955636 0.92516862]\n",
      "    uperp.uED= 0.0\n",
      "    mag of uperp= 1.0\n"
     ]
    },
    {
     "data": {
      "text/plain": [
       "-41.53792694386491"
      ]
     },
     "execution_count": 3,
     "metadata": {},
     "output_type": "execute_result"
    }
   ],
   "source": [
    "rED = rBD - rBE\n",
    "rEC = (1-f)*rED\n",
    "rBC = rBE + rEC\n",
    "uCB = -rBC / sqrt(sum(rBC**2))\n",
    "# find unit vector perp. to ramp (and upward)\n",
    "uED = rED / sqrt(sum(rED**2))\n",
    "uperp = array((uED[1],-uED[0]))\n",
    "print ('verify that we have uperp correct:')\n",
    "print ('    uperp=',uperp)\n",
    "print ('    uperp.uED=',dot(uperp,uED))\n",
    "print ('    mag of uperp=',sqrt(sum(uperp**2)))\n",
    "arctan(uCB[1]/uCB[0])*180/pi"
   ]
  },
  {
   "cell_type": "markdown",
   "metadata": {},
   "source": [
    "Force balancing gives\n",
    "\n",
    "$$\\sum \\vec{F}_i = T_{ABC} \\hat{u}_{CB} - W\\hat{\\jmath} + R \\hat{u}_{perp} =0$$\n",
    "\n",
    "Now we have two equations and two unknowns $T_{ABC}$ and $R$."
   ]
  },
  {
   "cell_type": "code",
   "execution_count": 4,
   "metadata": {},
   "outputs": [
    {
     "name": "stdout",
     "output_type": "stream",
     "text": [
      "[0.379556356256306*Rs - 0.748516935361959*Ts\n",
      " 0.925168618374746*Rs + 0.663115674280393*Ts - 260.0]\n"
     ]
    }
   ],
   "source": [
    "import sympy as s\n",
    "# define symbolic variables:\n",
    "Ts,Rs = s.symbols('Ts,Rs')\n",
    "# construct the equation that equals zero:\n",
    "eq = Ts*uCB - W*array((0.,1)) + Rs*uperp\n",
    "print (eq)"
   ]
  },
  {
   "cell_type": "code",
   "execution_count": 5,
   "metadata": {},
   "outputs": [
    {
     "name": "stdout",
     "output_type": "stream",
     "text": [
      "{Ts: 104.517331348682, Rs: 206.116934320280}\n"
     ]
    }
   ],
   "source": [
    "ss = s.solve( [eq[0],eq[1]], [Ts,Rs])\n",
    "print (ss)"
   ]
  },
  {
   "cell_type": "markdown",
   "metadata": {},
   "source": [
    "<a name=\"B\"></a>\n",
    "\n",
    "## B. Failure limit\n",
    "\n",
    "<img src=\"images/P3-40.png\" />"
   ]
  },
  {
   "cell_type": "code",
   "execution_count": 6,
   "metadata": {},
   "outputs": [],
   "source": [
    "T_AB_lim = 270.     # lb\n",
    "T_other_lim = 495.  # lb\n",
    "F_EC_lim = 650.     # lb\n",
    "uCD = array(( 12., 5)) / sqrt(12**2+5**2)\n",
    "uEC = array((-24., 7)) / sqrt(24**2+7**2)"
   ]
  },
  {
   "cell_type": "markdown",
   "metadata": {},
   "source": [
    "Need to solve two equations with two unknowns:\n",
    "\n",
    "$$-(W+F)\\hat{\\jmath}  + F_{EC} \\hat{u}_{EC} + T_{CD} \\hat{u}_{CD} =0$$\n",
    "\n",
    "Where $F=\\tfrac{1}{2}W$. The $x$ components yield\n",
    "\n",
    "$$F_{EC} = - T_{CD} \\frac{u_{CDx}}{ u_{ECx}}$$\n",
    "\n",
    "And the $y$ components yield\n",
    "\n",
    "$$F_{EC} =  \\frac{-T_{CD} u_{CDy} + \\tfrac{3}{2}W}{ u_{ECy}}$$\n",
    "\n",
    "Then\n",
    "\n",
    "$$-T_{CD} \\frac{ u_{CDx} }{ u_{ECx}} u_{ECy} = -T_{CD} u_{CDy} +\\tfrac{3}{2}W$$\n",
    "\n",
    "So\n",
    "\n",
    "$$T_{CD} = \\frac{ \\tfrac{3}{2}W }{ u_{CDy} - \\frac{ u_{CDx} }{ u_{ECx}} u_{ECy} }$$\n",
    "\n",
    "This along with the $x$ component equation give both unknowns."
   ]
  },
  {
   "cell_type": "code",
   "execution_count": 7,
   "metadata": {},
   "outputs": [],
   "source": [
    "W = arange(100.,1e3,1)\n",
    "T_AB = 0.5*W\n",
    "T_CB = W\n",
    "T_CD = 1.5*W / (uCD[1]-uCD[0]*uEC[1]/uEC[0])\n",
    "F_EC = -T_CD*uCD[0]/uEC[0]"
   ]
  },
  {
   "cell_type": "code",
   "execution_count": 8,
   "metadata": {},
   "outputs": [
    {
     "data": {
      "text/plain": [
       "Text(0, 0.5, 'member force (lb)')"
      ]
     },
     "execution_count": 8,
     "metadata": {},
     "output_type": "execute_result"
    },
    {
     "data": {
      "image/png": "[encoded data removed]",
      "text/plain": [
       "<Figure size 432x288 with 1 Axes>"
      ]
     },
     "metadata": {
      "needs_background": "light"
     },
     "output_type": "display_data"
    }
   ],
   "source": [
    "from matplotlib.pyplot import *\n",
    "%matplotlib inline\n",
    "plot( W, T_AB, label= '$T_{AB}$',  color='blue')\n",
    "plot( W, T_CB, label= '$T_{CB}$',  color='red')\n",
    "plot( W, T_CD, label= '$T_{CD}$',  color='green')\n",
    "plot( W, F_EC, label= '$F_{EC}$',  color='cyan')\n",
    "# plot force limits:\n",
    "W_max = W[-1]\n",
    "plot( (0,W_max), (T_AB_lim,T_AB_lim),       color ='blue', linestyle=\"--\")\n",
    "plot( (0,W_max), (T_other_lim,T_other_lim), color ='red', linestyle=\"--\")\n",
    "plot( (0,W_max), (T_other_lim,T_other_lim), color ='green', linestyle=\"--\")\n",
    "plot( (0,W_max), (F_EC_lim,F_EC_lim),       color ='cyan', linestyle=\"--\")\n",
    "legend(loc='lower right')\n",
    "xlabel('load $W$ (lb)')\n",
    "ylabel('member force (lb)')"
   ]
  },
  {
   "cell_type": "markdown",
   "metadata": {},
   "source": [
    "Looks like cable $CD$ will fail first. Solve for $W$ when $T_{CD}$ is set to equal its limit."
   ]
  },
  {
   "cell_type": "code",
   "execution_count": 9,
   "metadata": {},
   "outputs": [
    {
     "name": "stdout",
     "output_type": "stream",
     "text": [
      "largest weight W that may be lifted is 215.7692307692308 lb\n"
     ]
    }
   ],
   "source": [
    "W_lim = T_other_lim/1.5 * (uCD[1]-uCD[0]*uEC[1]/uEC[0])\n",
    "print ('largest weight W that may be lifted is',W_lim,'lb')"
   ]
  },
  {
   "cell_type": "markdown",
   "metadata": {},
   "source": [
    "<a name=\"C\"></a>\n",
    "\n",
    "## C. Simple spring\n",
    "\n",
    "<img src=\"images/P3-57.png\" />"
   ]
  },
  {
   "cell_type": "code",
   "execution_count": 10,
   "metadata": {},
   "outputs": [],
   "source": [
    "Q = 35. *dtr           # theta, radians\n",
    "k = 23.                # lb/ft\n",
    "X = 4.0                # ft\n",
    "La,Lb,Lc = X, 3, 5     # unstretched length, ft, for parts a,b,c"
   ]
  },
  {
   "cell_type": "markdown",
   "metadata": {},
   "source": [
    "Solution will equal the vertical component of the spring force $\\vec{F}_s$."
   ]
  },
  {
   "cell_type": "code",
   "execution_count": 11,
   "metadata": {},
   "outputs": [
    {
     "name": "stdout",
     "output_type": "stream",
     "text": [
      "for unstretched length= 4.0 ft, vertical component of Fs= 11.650061370997058 lb\n",
      "for unstretched length= 3 ft, vertical component of Fs= 24.842319407071116 lb\n",
      "for unstretched length= 5 ft, vertical component of Fs= -1.5421966650770018 lb\n"
     ]
    }
   ],
   "source": [
    "rAB = array(( -X, X*tan(Q) ))\n",
    "rAB_mag = sqrt(sum(rAB**2))\n",
    "uAB = rAB / rAB_mag\n",
    "# part a\n",
    "L0 = La                       # unstretched length, ft\n",
    "Fs = k*(rAB_mag - L0) * uAB   # force (vector) of spring on A\n",
    "print ('for unstretched length=',L0,'ft, vertical component of Fs=',Fs[1],'lb')\n",
    "# part b\n",
    "L0 = Lb                       # unstretched length, ft\n",
    "Fs = k*(rAB_mag - L0) * uAB   # force (vector) of spring on A\n",
    "print ('for unstretched length=',L0,'ft, vertical component of Fs=',Fs[1],'lb')\n",
    "# part c\n",
    "L0 = Lc                       # unstretched length, ft\n",
    "Fs = k*(rAB_mag - L0) * uAB   # force (vector) of spring on A\n",
    "print ('for unstretched length=',L0,'ft, vertical component of Fs=',Fs[1],'lb')"
   ]
  },
  {
   "cell_type": "markdown",
   "metadata": {},
   "source": [
    "<a name=\"D\"></a>\n",
    "\n",
    "## D. Simple spring 2\n",
    "\n",
    "<img src=\"images/P3-67.png\" />"
   ]
  },
  {
   "cell_type": "code",
   "execution_count": 12,
   "metadata": {},
   "outputs": [],
   "source": [
    "k = 229.   # N/mm\n",
    "L0 = 343.  # mm\n",
    "X = 209.   # mm\n",
    "Y = 169.   # mm"
   ]
  },
  {
   "cell_type": "markdown",
   "metadata": {},
   "source": [
    "(a)"
   ]
  },
  {
   "cell_type": "code",
   "execution_count": 13,
   "metadata": {},
   "outputs": [
    {
     "name": "stdout",
     "output_type": "stream",
     "text": [
      "compare hypontenuse 268.77871939571406 to unstretched length 343.0\n",
      "solution:\n",
      "    vertical component of force P= 10686.99853591264 N\n",
      "    force in AB (magnitude)= 13216.465645004388 N\n"
     ]
    }
   ],
   "source": [
    "rCA = array((X,-Y))\n",
    "rCA_mag = sqrt(sum(rCA**2))\n",
    "print( 'compare hypontenuse',rCA_mag,'to unstretched length',L0)\n",
    "uCA = rCA / rCA_mag\n",
    "FCA = k*(L0-rCA_mag)*uCA     # spring force (vector), N\n",
    "P = -FCA[1]\n",
    "TAB = -FCA[0]\n",
    "print ('solution:')\n",
    "print ('    vertical component of force P=',P,'N')\n",
    "print ('    force in AB (magnitude)=',abs(TAB),'N')"
   ]
  },
  {
   "cell_type": "markdown",
   "metadata": {},
   "source": [
    "(b) Assume the origin is at point $B$.\n",
    "\n",
    "Find the angle $\\theta$ between member $AB$ and the vertical with the law of cosines:\n",
    "\n",
    "$$L_0^2 = X^2 + Y^2 - 2XY \\cos \\theta$$\n",
    "\n",
    "$$\\theta = \\cos^{-1} \\frac{X^2 + Y^2 - L_0^2}{2XY} $$\n",
    "\n",
    "<img src=\"images/P3-67a.jpg\" style=\"height:200px;\" />"
   ]
  },
  {
   "cell_type": "code",
   "execution_count": 14,
   "metadata": {},
   "outputs": [
    {
     "name": "stdout",
     "output_type": "stream",
     "text": [
      "xA,yA= 160.10528038464116 mm, -134.34023668639054 mm\n"
     ]
    }
   ],
   "source": [
    "Q = arccos( (X**2+Y**2-L0**2)/(2*X*Y) )\n",
    "xA = X*sin(Q)\n",
    "yA = X*cos(Q)\n",
    "print ('xA,yA=',xA,'mm,',yA,'mm')"
   ]
  },
  {
   "cell_type": "markdown",
   "metadata": {},
   "source": [
    "<a name=\"E\"></a>\n",
    "\n",
    "## E. Multiple springs\n",
    "\n",
    "<img src=\"images/P3-73.png\" />"
   ]
  },
  {
   "cell_type": "code",
   "execution_count": 15,
   "metadata": {},
   "outputs": [],
   "source": [
    "mA,mB = 49., 84.           # kg\n",
    "k1,k2,k3 =  104.,122.,145.  # N/mm\n",
    "g = 9.81                   # N/kg"
   ]
  },
  {
   "cell_type": "markdown",
   "metadata": {
    "collapsed": true
   },
   "source": [
    "Define upward to be the $+y$ direction.  The free body diagrams of each mass are shown below. For diagram purposes, the spring forces are assumed to all be in extension; actual spring force directions may be opposite the vector directions shown. \n",
    "\n",
    "<img src=\"images/P3-73a.png\"  style=\"height:200px;\"  />\n",
    "\n",
    "The values of $\\delta_A$ and $\\delta_B$ are considered positive when the displacement is as shown in the figure in the problem definition. Weight vectors are given by $\\vec{W}_A=-m_A g \\hat{\\jmath}$ and $\\vec{W}_B=-m_B g \\hat{\\jmath}$.\n",
    "\n",
    "Define the force by spring 1 on mass A as $\\vec{F}_{1A} = k_1 \\delta_A \\hat{\\jmath} $. This force is in the $\\hat{\\jmath}$ direction when $\\delta_A$ is positive (i.e., when spring 1 is extended).\n",
    "\n",
    "Define the force by spring 2 on mass A as $\\vec{F}_{2A} = k_2 (\\delta_A -\\delta_B ) \\hat{\\jmath} $. This force is in the $\\hat{\\jmath}$ direction when $\\delta_A>\\delta_B$ (i.e., when spring 2 is compressed).\n",
    "\n",
    "Define the force by spring 2 on mass B as $\\vec{F}_{2B} = -k_2 (\\delta_A -\\delta_B ) \\hat{\\jmath} $. This force is in the $-\\hat{\\jmath}$ direction when $\\delta_A>\\delta_B$ (i.e., when spring 2 is compressed).\n",
    "\n",
    "Define the force by spring 3 on mass B as $\\vec{F}_{3B} = k_3 \\delta_B \\hat{\\jmath} $. This force is in the $\\hat{\\jmath}$ direction when $\\delta_B$ is positive (i.e., when spring 3 is compressed).\n",
    "\n",
    "Now force sums in the $y$ direction yeild (for mass A and B, respectively)\n",
    "\n",
    "$$ k_1 \\delta_A + k_2 (\\delta_A -\\delta_B ) -m_A g = 0 $$\n",
    "\n",
    "\n",
    "$$ - k_2 (\\delta_A -\\delta_B ) + k_3 \\delta_B - m_B g = 0 $$\n",
    "\n",
    "This can be written in matrix form:\n",
    "\n",
    "$$\\begin{bmatrix}\n",
    "k_1+k_2 & -k_2\\\\ \n",
    "-k_2    &  k_2+k_3\n",
    "\\end{bmatrix}\n",
    "\\begin{bmatrix} \\delta_A \\\\ \\delta_B \\end{bmatrix}=\n",
    "\\begin{bmatrix}   m_A g  \\\\   m_B g  \\end{bmatrix}\n",
    "$$\n",
    "\n",
    "This is solved with a [linalg](http://docs.scipy.org/doc/numpy/reference/routines.linalg.html) routine as follows."
   ]
  },
  {
   "cell_type": "code",
   "execution_count": 16,
   "metadata": {},
   "outputs": [],
   "source": [
    "CC = array((( k1+k2,   -k2 ),\n",
    "            (   -k2, k2+k3 ) ))\n",
    "SS = array(( mA*g, mB*g ))\n",
    "solution = linalg.solve(CC,SS)\n",
    "deltaA, deltaB = solution[0], solution[1]"
   ]
  },
  {
   "cell_type": "markdown",
   "metadata": {},
   "source": [
    "Now the forces can be calculated as defined above."
   ]
  },
  {
   "cell_type": "code",
   "execution_count": 17,
   "metadata": {},
   "outputs": [
    {
     "name": "stdout",
     "output_type": "stream",
     "text": [
      "spring extensions (positive down):\n",
      "    delta A= 5.034913766553743 mm\n",
      "    delta B= 5.386889436402834 mm\n",
      "force supported by each spring (negative in compression):\n",
      "    F1= 523.6310317215892 N\n",
      "    F2= 42.94103172158913 N\n",
      "    F3= -781.0989682784109 N\n"
     ]
    }
   ],
   "source": [
    "print ('spring extensions (positive down):')\n",
    "print ('    delta A=',deltaA,'mm')\n",
    "print ('    delta B=',deltaB,'mm')\n",
    "print ('force supported by each spring (negative in compression):')\n",
    "print ('    F1=',k1*deltaA,'N')\n",
    "print ('    F2=',k2*(deltaB-deltaA),'N')\n",
    "print ('    F3=',-k3*deltaB,'N')\n"
   ]
  },
  {
   "cell_type": "markdown",
   "metadata": {},
   "source": [
    "<a name=\"F\"></a>\n",
    "\n",
    "## F. 3D equilibrium\n",
    "\n",
    "\n",
    "<img src=\"images/P3-104.png\" />"
   ]
  },
  {
   "cell_type": "code",
   "execution_count": 18,
   "metadata": {},
   "outputs": [],
   "source": [
    "x,y,z = 12.,6.,5.     # ft\n",
    "W =  800.             # lb"
   ]
  },
  {
   "cell_type": "markdown",
   "metadata": {},
   "source": [
    "Force sum:\n",
    "\n",
    "$$-W \\hat{k} + F_{AB} \\hat{u}_{AB} + F_{AC} \\hat{u}_{AC} + R \\hat{u}_\\perp = 0$$\n",
    "\n",
    "Symmetry requires that $ F_{AB}= F_{AC}=T$. So we have 3 equations and 2 unknowns ($T$ and $R$):\n",
    "\n",
    "$$-W \\hat{k} + T \\left (\\hat{u}_{AB} + \\hat{u}_{AC}  \\right ) + R \\hat{u}_\\perp = 0$$"
   ]
  },
  {
   "cell_type": "code",
   "execution_count": 19,
   "metadata": {},
   "outputs": [],
   "source": [
    "rAB = array(( x, -y, z))\n",
    "rAC = array((-x, -y, z))\n",
    "uAB = rAB/sqrt(sum(rAB**2))\n",
    "uAC = rAC/sqrt(sum(rAC**2))\n",
    "rperp = cross(uAC,uAB)\n",
    "uperp = rperp/sqrt(sum(rperp**2))\n",
    "uz = array((0.,0,1))"
   ]
  },
  {
   "cell_type": "code",
   "execution_count": 20,
   "metadata": {},
   "outputs": [
    {
     "name": "stdout",
     "output_type": "stream",
     "text": [
      "0\n",
      "0.64018439966448*Rs - 0.838116354923494*Ts\n",
      "0.768221279597376*Rs + 0.698430295769578*Ts - 800.0\n"
     ]
    }
   ],
   "source": [
    "import sympy as s\n",
    "# define symbolic variables:\n",
    "Ts,Rs = s.symbols('Ts,Rs')\n",
    "# construct the equation that equals zero:\n",
    "eq = -W*uz + Ts*(uAB+uAC) + Rs*uperp \n",
    "print (eq[0])\n",
    "print (eq[1])\n",
    "print (eq[2])"
   ]
  },
  {
   "cell_type": "markdown",
   "metadata": {},
   "source": [
    "There is nothing going on the $x$ direction, so solve the other two equations."
   ]
  },
  {
   "cell_type": "code",
   "execution_count": 21,
   "metadata": {},
   "outputs": [
    {
     "name": "stdout",
     "output_type": "stream",
     "text": [
      "R= 614.5770236779007 lb\n",
      "F_AB=F_AC= 469.4367561729952 lb\n"
     ]
    }
   ],
   "source": [
    "ss = s.solve( [eq[1],eq[2]], [Ts,Rs])\n",
    "T = float(ss[Ts])\n",
    "R = float(ss[Rs])\n",
    "print ('R=',R,'lb')\n",
    "print ('F_AB=F_AC=',T,'lb')"
   ]
  },
  {
   "cell_type": "markdown",
   "metadata": {},
   "source": [
    "<a name=\"G\"></a>\n",
    "\n",
    "## G. 3D equilibrium (2)\n",
    "\n",
    "\n",
    "<img src=\"images/P3-110.png\" />"
   ]
  },
  {
   "cell_type": "code",
   "execution_count": 22,
   "metadata": {},
   "outputs": [],
   "source": [
    "WE = 50.0                      # lb\n",
    "xD,yD = 5, 14                  # in\n",
    "rOA = array(( 0.,  0., 8. ))   # in\n",
    "rOB = array(( 0.,  6., 0. ))   # in\n",
    "rOD = array(( xD,  yD, 0. ))   # in\n",
    "lAC = 5                        # in"
   ]
  },
  {
   "cell_type": "code",
   "execution_count": 23,
   "metadata": {},
   "outputs": [
    {
     "name": "stdout",
     "output_type": "stream",
     "text": [
      "weight W= 64.16339310766821 lb\n"
     ]
    }
   ],
   "source": [
    "rAB = rOB - rOA\n",
    "uAB = rAB / sqrt(sum(rAB**2))\n",
    "rAC = uAB * lAC\n",
    "rCD = rOD - (rOA + rAC)\n",
    "uCD = rCD / sqrt(sum(rCD**2))\n",
    "T   = WE * uCD                 # force vector (in lb) on C from cable CDE\n",
    "Rx,Rz = -T[0], -T[2]           # two components of the reaction force from bar\n",
    "Ry = -(Rx*uAB[0] + Rz*uAB[2])/uAB[1]          # setting dot product R.uAB to zero yeilds Ry\n",
    "W = Ry + T[1]\n",
    "print ('weight W=',W,'lb')"
   ]
  }
 ],
 "metadata": {
  "anaconda-cloud": {},
  "kernelspec": {
   "display_name": "Python 3",
   "language": "python",
   "name": "python3"
  },
  "language_info": {
   "codemirror_mode": {
    "name": "ipython",
    "version": 3
   },
   "file_extension": ".py",
   "mimetype": "text/x-python",
   "name": "python",
   "nbconvert_exporter": "python",
   "pygments_lexer": "ipython3",
   "version": "3.7.1"
  }
 },
 "nbformat": 4,
 "nbformat_minor": 1
}
