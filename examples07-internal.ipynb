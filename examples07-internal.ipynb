{
 "cells": [
  {
   "cell_type": "markdown",
   "metadata": {},
   "source": [
    "#  Examples 7 -- Internal Forces \n",
    "\n",
    "Contents:\n",
    "- [A. ](#A)\n",
    "- [B.  ](#B)\n",
    "- [C.  ](#C)\n",
    "- [D.  ](#D)    \n",
    "- [E.  ](#E)             \n",
    "- [F.   ](#F)               \n",
    "- [G.  ](#G)                           \n",
    "- [H. ](#H) \n",
    "- [I.](#I) \n",
    "- [J.](#J) \n",
    "- [K.](#K) "
   ]
  },
  {
   "cell_type": "code",
   "execution_count": 1,
   "metadata": {},
   "outputs": [],
   "source": [
    "from numpy import *\n",
    "dtr = pi/180  # degree-to-radian conversion\n",
    "from matplotlib.pyplot import *\n",
    "%matplotlib inline"
   ]
  },
  {
   "cell_type": "markdown",
   "metadata": {},
   "source": [
    "<a name=\"A\"></a>\n",
    "\n",
    "## A. Internal forces at points along shaft\n",
    "\n",
    "<img src=\"images/P8-01.png\" />"
   ]
  },
  {
   "cell_type": "code",
   "execution_count": 2,
   "metadata": {},
   "outputs": [],
   "source": [
    "X1,X2,X3 = 4.,161.,97.  # mm  (left to right)\n",
    "F = 71.7                # N"
   ]
  },
  {
   "cell_type": "code",
   "execution_count": 3,
   "metadata": {},
   "outputs": [
    {
     "name": "stdout",
     "output_type": "stream",
     "text": [
      "answer at Point A:\n",
      "    NA= 0.0 N\n",
      "    VA= 71.69999999999982 N\n",
      "    MA= -6.954900000000023 N-m\n",
      "    NB= 0.0 N\n",
      "    VB= 71.69999999999982 N\n",
      "    MB= -18.498600000000003 N-m\n",
      "    NC= 0.0 N\n",
      "    VC= -4624.650000000001 N\n",
      "    MC= -18.498600000000003 N-m\n"
     ]
    }
   ],
   "source": [
    "Dy = F*(X2+X3)/X1\n",
    "Ey = F + Dy\n",
    "NA = 0.\n",
    "VA = -Dy + Ey\n",
    "MA = Ey*X2 - Dy*(X1+X2)\n",
    "NB = 0.\n",
    "VB = -Dy + Ey\n",
    "MB = -Dy*X1\n",
    "NC = 0.\n",
    "VC = -Dy\n",
    "MC =  -Dy*X1\n",
    "print ('answer at Point A:')\n",
    "print ('    NA=',NA,'N')\n",
    "print ('    VA=',VA,'N')\n",
    "print ('    MA=',MA/1e3,'N-m')\n",
    "print ('    NB=',NB,'N')\n",
    "print ('    VB=',VB,'N')\n",
    "print ('    MB=',MB/1e3,'N-m')\n",
    "print ('    NC=',NC,'N')\n",
    "print ('    VC=',VC,'N')\n",
    "print ('    MC=',MC/1e3,'N-m')"
   ]
  },
  {
   "cell_type": "markdown",
   "metadata": {},
   "source": [
    "<a name=\"B\"></a>\n",
    "\n",
    "\n",
    "## B.\n",
    "\n",
    "(page 466)\n",
    "\n",
    "<img src=\"images/P8-10.png\" />"
   ]
  },
  {
   "cell_type": "code",
   "execution_count": 4,
   "metadata": {},
   "outputs": [],
   "source": [
    "T = 101.       # lb\n",
    "width = 0.5    # in.\n",
    "XIJ = 1.40     # in.\n",
    "X_notch = 0.85 # in.\n",
    "XGnotch = 2.85 # in.\n",
    "YED = 1.4      # in.\n",
    "if 0:  # book parameters\n",
    "    T = 100.       # lb\n",
    "    width = 0.5    # in.\n",
    "    XIJ = 1.50     # in.\n",
    "    X_notch = 1.0  # in.\n",
    "    XGnotch = 3.0  # in.\n",
    "    YED = 1.5      # in."
   ]
  },
  {
   "cell_type": "code",
   "execution_count": 5,
   "metadata": {},
   "outputs": [
    {
     "name": "stdout",
     "output_type": "stream",
     "text": [
      "answer:\n",
      "    ND= 0.0 lb\n",
      "    VD= 101.0 lb\n",
      "    MD= 0.0 in-lb\n",
      "    NE= 0.0 lb\n",
      "    VE= 101.0 lb\n",
      "    ME= -141.39999999999998 in-lb\n",
      "    NF= -71.4177848998413 lb\n",
      "    VF= 71.4177848998413 lb\n",
      "    MF= -223.53045263481746 in-lb\n"
     ]
    }
   ],
   "source": [
    "MD = ND = 0.\n",
    "VD = T\n",
    "NE = 0.\n",
    "VE = T\n",
    "ME = -YED*T\n",
    "NF = -T/sqrt(2)\n",
    "VF =  T/sqrt(2)\n",
    "r = YED  # outer radius of turn\n",
    "w = width\n",
    "YEF = (r-0.5*w)/sqrt(2)\n",
    "MF = -T*(YED+YEF)\n",
    "print ('answer:')\n",
    "print ('    ND=',ND,'lb')\n",
    "print ('    VD=',VD,'lb')\n",
    "print ('    MD=',MD,'in-lb')\n",
    "print ('    NE=',NE,'lb')\n",
    "print ('    VE=',VE,'lb')\n",
    "print ('    ME=',ME,'in-lb')\n",
    "print ('    NF=',NF,'lb')\n",
    "print ('    VF=',VF,'lb')\n",
    "print ('    MF=',MF,'in-lb')"
   ]
  },
  {
   "cell_type": "markdown",
   "metadata": {},
   "source": [
    "<a name=\"C\"></a>\n",
    "\n",
    "\n",
    "\n",
    "## C.\n",
    "\n",
    "<img src=\"images/P8-14.png\" />"
   ]
  },
  {
   "cell_type": "code",
   "execution_count": 6,
   "metadata": {},
   "outputs": [],
   "source": [
    "W = 3.69    # kN\n",
    "XCD = 1.60  # m"
   ]
  },
  {
   "cell_type": "code",
   "execution_count": 7,
   "metadata": {},
   "outputs": [
    {
     "name": "stdout",
     "output_type": "stream",
     "text": [
      "answer:\n",
      "    NL= -3.69 kN\n",
      "    VL= -3.69 kN\n",
      "    ML= -5.904 kN-m\n",
      "    NO= -3.69 kN\n",
      "    VO= -3.69 kN\n",
      "    MO= 0.0 kN-m\n"
     ]
    }
   ],
   "source": [
    "MO = 0.\n",
    "NO = VO = -W\n",
    "NL = VL = -W\n",
    "ML = -W*XCD\n",
    "print ('answer:')\n",
    "print ('    NL=',NL,'kN')\n",
    "print ('    VL=',VL,'kN')\n",
    "print ('    ML=',ML,'kN-m')\n",
    "print ('    NO=',NO,'kN')\n",
    "print ('    VO=',VO,'kN')\n",
    "print ('    MO=',MO,'kN-m')"
   ]
  },
  {
   "cell_type": "markdown",
   "metadata": {},
   "source": [
    "<a name=\"D\"></a>\n",
    "\n",
    "\n",
    "\n",
    "## D.\n",
    "\n",
    "\n",
    "<img src=\"images/P8-32.png\" />"
   ]
  },
  {
   "cell_type": "code",
   "execution_count": 8,
   "metadata": {},
   "outputs": [],
   "source": [
    "P = 6.  # kN\n",
    "L = 3.  # m"
   ]
  },
  {
   "cell_type": "code",
   "execution_count": 9,
   "metadata": {},
   "outputs": [
    {
     "name": "stdout",
     "output_type": "stream",
     "text": [
      "answer:\n",
      "    V= 6.0 kN, M= 6.0 x kN\n",
      "    V= 0 kN, M= 6.0  kN\n",
      "    V= -6.0 kN, M= 18.0 - 6.0 x kN\n"
     ]
    }
   ],
   "source": [
    "print ('answer:')\n",
    "print ('    V=',P,'kN, M=',P,'x kN')\n",
    "print ('    V=',0,'kN, M=',P*L/3,' kN')\n",
    "print ('    V=',-P,'kN, M=',P*L,'-',P,'x kN')"
   ]
  },
  {
   "cell_type": "markdown",
   "metadata": {},
   "source": [
    "<a name=\"E\"></a>\n",
    "\n",
    "\n",
    "## E\n",
    "\n",
    "<img src=\"images/P8-38.png\" align='right' />\n",
    "\n",
    "For the cantilever beam shown, determine the shear and moment as a function of position and graph these functions."
   ]
  },
  {
   "cell_type": "code",
   "execution_count": 10,
   "metadata": {},
   "outputs": [],
   "source": [
    "X = 5.68  # m\n",
    "w = 7.76  # kN/m"
   ]
  },
  {
   "cell_type": "code",
   "execution_count": 11,
   "metadata": {},
   "outputs": [
    {
     "name": "stdout",
     "output_type": "stream",
     "text": [
      "answer:\n",
      "    V=( -7.76 kN/m) x m\n",
      "    M=( -3.88 kN/m) x^2 m^2\n"
     ]
    }
   ],
   "source": [
    "print ('answer:')\n",
    "print ('    V=(',-w,'kN/m) x m')\n",
    "print ('    M=(',-w/2,'kN/m) x^2 m^2')"
   ]
  },
  {
   "cell_type": "code",
   "execution_count": 12,
   "metadata": {},
   "outputs": [
    {
     "data": {
      "text/plain": [
       "Text(0, 0.5, '$V(x)$ (lb)')"
      ]
     },
     "execution_count": 12,
     "metadata": {},
     "output_type": "execute_result"
    },
    {
     "data": {
      "image/png": "[encoded data removed]",
      "text/plain": [
       "<Figure size 432x288 with 1 Axes>"
      ]
     },
     "metadata": {
      "needs_background": "light"
     },
     "output_type": "display_data"
    }
   ],
   "source": [
    "x = arange(0.,X,0.1)\n",
    "v = -w*x\n",
    "%matplotlib inline\n",
    "grid()\n",
    "plot( x, v, color='black')\n",
    "xlabel('$x$ (ft)')\n",
    "ylabel('$V(x)$ (lb)')"
   ]
  },
  {
   "cell_type": "code",
   "execution_count": 13,
   "metadata": {},
   "outputs": [
    {
     "data": {
      "text/plain": [
       "Text(0, 0.5, '$M(x)$ (ft-lb)')"
      ]
     },
     "execution_count": 13,
     "metadata": {},
     "output_type": "execute_result"
    },
    {
     "data": {
      "image/png": "[encoded data removed]",
      "text/plain": [
       "<Figure size 432x288 with 1 Axes>"
      ]
     },
     "metadata": {
      "needs_background": "light"
     },
     "output_type": "display_data"
    }
   ],
   "source": [
    "m = -w/2*x**2\n",
    "%matplotlib inline\n",
    "grid()\n",
    "plot( x, m, color='blue')\n",
    "xlabel('$x$ (ft)')\n",
    "ylabel('$M(x)$ (ft-lb)')"
   ]
  },
  {
   "cell_type": "markdown",
   "metadata": {},
   "source": [
    "checked; works."
   ]
  },
  {
   "cell_type": "markdown",
   "metadata": {},
   "source": [
    "<a name=\"F\"></a>\n",
    "\n",
    "\n",
    "## F. Beam with overhang\n",
    "\n",
    "<img src=\"images/P8-41.png\" align='right' />\n",
    "\n",
    "A beam with an overhang is subjected to the uniformly distributed load shown. Determine (and graph) the shear and moment as functions of position."
   ]
  },
  {
   "cell_type": "code",
   "execution_count": 40,
   "metadata": {},
   "outputs": [],
   "source": [
    "w = 530.  # lb/ft\n",
    "X = 7.75  # ft (half length)"
   ]
  },
  {
   "cell_type": "code",
   "execution_count": 41,
   "metadata": {},
   "outputs": [
    {
     "name": "stdout",
     "output_type": "stream",
     "text": [
      "answer:\n",
      "    for =0<x<X:\n",
      "    V=( -530.0 lb/ft) x\n",
      "    M=( -265.0 lb/ft) x^2\n",
      "    for =X<x<2X:\n",
      "    V= 8215.0 lb-( 530.0 lb/ft) x\n",
      "    M= -63666.25 ft-lb+( 8215.0 lb) x +( -265.0 lb/ft) x^2\n"
     ]
    }
   ],
   "source": [
    "Cy = 0.\n",
    "By = 2*w*X\n",
    "print ('answer:')\n",
    "print ('    for =0<x<X:')\n",
    "print ('    V=(',-w,'lb/ft) x')\n",
    "print ('    M=(',-w/2,'lb/ft) x^2')\n",
    "print ('    for =X<x<2X:')\n",
    "print ('    V=',By,'lb-(',w,'lb/ft) x')\n",
    "print ('    M=',-By*X,'ft-lb+(',By,'lb) x +(',-w/2,'lb/ft) x^2')"
   ]
  },
  {
   "cell_type": "code",
   "execution_count": 42,
   "metadata": {},
   "outputs": [
    {
     "data": {
      "text/plain": [
       "Text(0, 0.5, '$V(x)$ (lb)')"
      ]
     },
     "execution_count": 42,
     "metadata": {},
     "output_type": "execute_result"
    },
    {
     "data": {
      "image/png": "[encoded data removed]",
      "text/plain": [
       "<Figure size 432x288 with 1 Axes>"
      ]
     },
     "metadata": {
      "needs_background": "light"
     },
     "output_type": "display_data"
    }
   ],
   "source": [
    "x = arange(0.,2*X,0.1)\n",
    "N = int(len(x)/2)\n",
    "v1 = -w*x[:N]\n",
    "v2 = By - w*x[N:]\n",
    "%matplotlib inline\n",
    "grid()\n",
    "plot( x[:N], v1, label= '$0<x<X$',  color='black')\n",
    "plot( x[N:], v2, label= '$X<x<2X$',  color='red')\n",
    "legend(loc='lower right')\n",
    "xlabel('$x$ (ft)')\n",
    "ylabel('$V(x)$ (lb)')"
   ]
  },
  {
   "cell_type": "code",
   "execution_count": 43,
   "metadata": {},
   "outputs": [
    {
     "data": {
      "text/plain": [
       "Text(0, 0.5, '$M(x)$ (ft-lb)')"
      ]
     },
     "execution_count": 43,
     "metadata": {},
     "output_type": "execute_result"
    },
    {
     "data": {
      "image/png": "[encoded data removed]",
      "text/plain": [
       "<Figure size 432x288 with 1 Axes>"
      ]
     },
     "metadata": {
      "needs_background": "light"
     },
     "output_type": "display_data"
    }
   ],
   "source": [
    "m1 = -w/2*x[:N]**2\n",
    "m2 = -By*X + By*x[N:] -w/2*x[N:]**2\n",
    "%matplotlib inline\n",
    "grid()\n",
    "plot( x[:N], m1, label= '$0<x<X$',  color='blue')\n",
    "plot( x[N:], m2, label= '$X<x<2X$',  color='blue')\n",
    "xlabel('$x$ (ft)')\n",
    "ylabel('$M(x)$ (ft-lb)')"
   ]
  },
  {
   "cell_type": "markdown",
   "metadata": {},
   "source": [
    "<a name=\"G\"></a>\n",
    "\n",
    "\n",
    "## G. Loaded Beam\n",
    "\n",
    "<img src=\"images/P8-59.png\" align='right' />\n",
    "\n",
    "Determine (and graph) the shear and moment as functions of position."
   ]
  },
  {
   "cell_type": "code",
   "execution_count": 18,
   "metadata": {},
   "outputs": [],
   "source": [
    "w0 = 8.73    # kN/m\n",
    "L = 5.08     # m"
   ]
  },
  {
   "cell_type": "code",
   "execution_count": 19,
   "metadata": {},
   "outputs": [
    {
     "name": "stdout",
     "output_type": "stream",
     "text": [
      "answer:\n",
      "    V= -0.859251968503937 x^2\n",
      "    M= -0.28641732283464566 x^3\n"
     ]
    }
   ],
   "source": [
    "F0 = w0/(2*L)  # times x^2\n",
    "XF = 2./3.    # times x\n",
    "print( 'answer:')\n",
    "print( '    V=',-F0,'x^2')\n",
    "print ('    M=',-F0/3,'x^3')"
   ]
  },
  {
   "cell_type": "code",
   "execution_count": 20,
   "metadata": {},
   "outputs": [
    {
     "data": {
      "text/plain": [
       "Text(0, 0.5, '$V(x)$ (kN)')"
      ]
     },
     "execution_count": 20,
     "metadata": {},
     "output_type": "execute_result"
    },
    {
     "data": {
      "image/png": "[encoded data removed]",
      "text/plain": [
       "<Figure size 432x288 with 1 Axes>"
      ]
     },
     "metadata": {
      "needs_background": "light"
     },
     "output_type": "display_data"
    }
   ],
   "source": [
    "x = arange(0.,L,0.1)\n",
    "v = -F0*x**2\n",
    "grid()\n",
    "plot( x, v, color='blue')\n",
    "xlabel('$x$ (m)')\n",
    "ylabel('$V(x)$ (kN)')"
   ]
  },
  {
   "cell_type": "code",
   "execution_count": 21,
   "metadata": {},
   "outputs": [
    {
     "data": {
      "text/plain": [
       "Text(0, 0.5, '$M(x)$ (kN-m)')"
      ]
     },
     "execution_count": 21,
     "metadata": {},
     "output_type": "execute_result"
    },
    {
     "data": {
      "image/png": "[encoded data removed]",
      "text/plain": [
       "<Figure size 432x288 with 1 Axes>"
      ]
     },
     "metadata": {
      "needs_background": "light"
     },
     "output_type": "display_data"
    }
   ],
   "source": [
    "m = -F0/3.*x**3\n",
    "grid()\n",
    "plot( x, m, color='blue')\n",
    "xlabel('$x$ (m)')\n",
    "ylabel('$M(x)$ (kN-m)')"
   ]
  },
  {
   "cell_type": "markdown",
   "metadata": {},
   "source": [
    "checked; works."
   ]
  },
  {
   "cell_type": "markdown",
   "metadata": {},
   "source": [
    "<a name=\"H\"></a>\n",
    "\n",
    "\n",
    "## H. Loaded Beam\n",
    "\n",
    "<img src=\"images/P8-60.png\" align='right' />\n",
    "\n",
    "Determine (and graph) the shear and moment as functions of position."
   ]
  },
  {
   "cell_type": "code",
   "execution_count": 22,
   "metadata": {},
   "outputs": [],
   "source": [
    "w1 = 9.75   # kN/m\n",
    "w2 = 3.53   # kN/m\n",
    "L = 8.90    # m"
   ]
  },
  {
   "cell_type": "code",
   "execution_count": 23,
   "metadata": {},
   "outputs": [],
   "source": [
    "F1 = 0.5*L*(w1-w2)  # triangle force dist.\n",
    "X1 = L/3.\n",
    "F2 = L*w2           # uniform force dist.\n",
    "X2 = L/2\n",
    "Ay = F1 + F2\n",
    "MA = F1*X1 + F2*X2"
   ]
  },
  {
   "cell_type": "markdown",
   "metadata": {},
   "source": [
    "$V(x)=A_y-\\int_0^x w_2\\; dx'-\\int_0^x \\left (w_1-w_2  \\right )\\left (1-\\frac{x'}{L}  \\right )\\; dx'$\n",
    "\n",
    "$V(x)=A_y-w_2 x - \\left (w_1-w_2  \\right ) \\left (x- \\frac{x^2}{2L}  \\right )$\n",
    "\n",
    "$V(x)=A_y-w_1x+ \\frac{w_1-w_2}{2L} x^2$\n",
    "\n",
    "$M(x)=-M_A + \\int_0^x \\left (A_y-w_1x'+ \\frac{w_1-w_2}{2L} x'^2  \\right )\\; dx'$\n",
    "\n",
    "$M(x)=-M_A + A_yx-\\frac{w_1}{2}x^2+ \\frac{w_1-w_2}{6L} x^3 $"
   ]
  },
  {
   "cell_type": "code",
   "execution_count": 24,
   "metadata": {},
   "outputs": [
    {
     "name": "stdout",
     "output_type": "stream",
     "text": [
      "answer:\n",
      "    V(x) = 59.10 -9.75 x +0.3494 x^2\n",
      "    M(x) = -221.92 +59.10 x -4.88 x^2 +0.1165 x^3\n"
     ]
    }
   ],
   "source": [
    "v0 = Ay\n",
    "v1 = -w1\n",
    "v2 = (w1-w2)/(2*L)\n",
    "m0 = -MA\n",
    "m1 = Ay\n",
    "m2 = -w1/2\n",
    "m3 = (w1-w2)/(6*L)\n",
    "print ('answer:')\n",
    "print ('    V(x) = {:.2f} {:+.2f} x {:+.4f} x^2'.format(v0,v1,v2))\n",
    "print ('    M(x) = {:.2f} {:+.2f} x {:+.2f} x^2 {:+.4f} x^3'.format(m0,m1,m2,m3))"
   ]
  },
  {
   "cell_type": "code",
   "execution_count": 25,
   "metadata": {},
   "outputs": [
    {
     "data": {
      "text/plain": [
       "Text(0, 0.5, '$V(x)$ (kN)')"
      ]
     },
     "execution_count": 25,
     "metadata": {},
     "output_type": "execute_result"
    },
    {
     "data": {
      "image/png": "[encoded data removed]",
      "text/plain": [
       "<Figure size 432x288 with 1 Axes>"
      ]
     },
     "metadata": {
      "needs_background": "light"
     },
     "output_type": "display_data"
    }
   ],
   "source": [
    "x = arange(0.,L,0.1)\n",
    "v = v0 + v1*x + v2*x**2\n",
    "grid()\n",
    "plot( x, v, color='blue')\n",
    "xlabel('$x$ (m)')\n",
    "ylabel('$V(x)$ (kN)')"
   ]
  },
  {
   "cell_type": "code",
   "execution_count": 26,
   "metadata": {},
   "outputs": [
    {
     "data": {
      "text/plain": [
       "Text(0, 0.5, '$M(x)$ (kN-m)')"
      ]
     },
     "execution_count": 26,
     "metadata": {},
     "output_type": "execute_result"
    },
    {
     "data": {
      "image/png": "[encoded data removed]",
      "text/plain": [
       "<Figure size 432x288 with 1 Axes>"
      ]
     },
     "metadata": {
      "needs_background": "light"
     },
     "output_type": "display_data"
    }
   ],
   "source": [
    "m = m0 + m1*x + m2*x**2 + m3*x**3\n",
    "grid()\n",
    "plot( x, m, color='blue')\n",
    "xlabel('$x$ (m)')\n",
    "ylabel('$M(x)$ (kN-m)')"
   ]
  },
  {
   "cell_type": "markdown",
   "metadata": {},
   "source": [
    "checked; works."
   ]
  },
  {
   "cell_type": "markdown",
   "metadata": {},
   "source": [
    "<a name=\"I\"></a>\n",
    "\n",
    "## I.\n",
    "\n",
    "\n",
    "<img src=\"images/P8-63.png\" />"
   ]
  },
  {
   "cell_type": "code",
   "execution_count": 27,
   "metadata": {},
   "outputs": [],
   "source": [
    "w1 = 370.  # lb/ft\n",
    "w2 = 740.  # lb/ft\n",
    "L = 18.    # ft"
   ]
  },
  {
   "cell_type": "code",
   "execution_count": 28,
   "metadata": {},
   "outputs": [],
   "source": [
    "F1 = 0.5*L*(w2-w1)  # triangle force dist.\n",
    "X1 = 2*L/3.\n",
    "F2 = L*w1           # uniform force dist.\n",
    "X2 = L/2\n",
    "By = (F1*X1 + F2*X2)/L\n",
    "Ay = F1+F2-By"
   ]
  },
  {
   "cell_type": "markdown",
   "metadata": {},
   "source": [
    "$w(x) = w_1 + (w_2-w_1)\\frac{x}{L} $\n",
    "\n",
    "$V(x)=A_y-\\int_0^x w_1\\; dx'-\\int_0^x \\left (w_2-w_1  \\right )\\frac{x'}{L} \\; dx' $\n",
    "\n",
    "$V(x)= A_y - w_1 x -   \\frac{w_2-w_1 }{2L}x^2 $\n",
    "\n",
    "$M(x)= \\int_0^x \\left [ A_y - w_1 x' - \\left (w_2-w_1  \\right )  \\frac{x'^2}{2L}  \\right ]\\;dx'$\n",
    "\n",
    "$ M(x)= A_yx-\\frac{w_1}{2}x^2+ \\frac{w_1-w_2}{6L} x^3$"
   ]
  },
  {
   "cell_type": "code",
   "execution_count": 29,
   "metadata": {},
   "outputs": [
    {
     "name": "stdout",
     "output_type": "stream",
     "text": [
      "answer:\n",
      "    V(x) = 4440.00 -370.00 x -10.28 x^2\n",
      "    M(x) = 0.00 +4440.00 x -185.00 x^2 -3.43 x^3\n"
     ]
    }
   ],
   "source": [
    "v0 = Ay\n",
    "v1 = -w1\n",
    "v2 = (w1-w2)/(2*L)\n",
    "m0 = 0.\n",
    "m1 = Ay\n",
    "m2 = -w1/2\n",
    "m3 = (w1-w2)/(6*L)\n",
    "print ('answer:')\n",
    "print ('    V(x) = {:.2f} {:+.2f} x {:+.2f} x^2'.format(v0,v1,v2))\n",
    "print ('    M(x) = {:.2f} {:+.2f} x {:+.2f} x^2 {:+.2f} x^3'.format(m0,m1,m2,m3))"
   ]
  },
  {
   "cell_type": "code",
   "execution_count": 30,
   "metadata": {},
   "outputs": [
    {
     "data": {
      "text/plain": [
       "Text(0, 0.5, '$V(x)$ (kN)')"
      ]
     },
     "execution_count": 30,
     "metadata": {},
     "output_type": "execute_result"
    },
    {
     "data": {
      "image/png": "[encoded data removed]",
      "text/plain": [
       "<Figure size 432x288 with 1 Axes>"
      ]
     },
     "metadata": {
      "needs_background": "light"
     },
     "output_type": "display_data"
    }
   ],
   "source": [
    "x = arange(0.,L,0.1)\n",
    "v = v0 + v1*x + v2*x**2\n",
    "grid()\n",
    "plot( x, v, color='blue')\n",
    "xlabel('$x$ (m)')\n",
    "ylabel('$V(x)$ (kN)')"
   ]
  },
  {
   "cell_type": "code",
   "execution_count": 31,
   "metadata": {},
   "outputs": [
    {
     "data": {
      "text/plain": [
       "Text(0, 0.5, '$M(x)$ (ft-lb)')"
      ]
     },
     "execution_count": 31,
     "metadata": {},
     "output_type": "execute_result"
    },
    {
     "data": {
      "image/png": "[encoded data removed]",
      "text/plain": [
       "<Figure size 432x288 with 1 Axes>"
      ]
     },
     "metadata": {
      "needs_background": "light"
     },
     "output_type": "display_data"
    }
   ],
   "source": [
    "m = m0 + m1*x + m2*x**2 + m3*x**3\n",
    "grid()\n",
    "plot( x, m, color='blue')\n",
    "xlabel('$x$ (ft)')\n",
    "ylabel('$M(x)$ (ft-lb)')"
   ]
  },
  {
   "cell_type": "markdown",
   "metadata": {},
   "source": [
    "checked; works."
   ]
  },
  {
   "cell_type": "markdown",
   "metadata": {},
   "source": [
    "<a name=\"J\"></a>\n",
    "\n",
    "## J.\n",
    "\n",
    "<img src=\"images/P8-70.png\" />\n"
   ]
  },
  {
   "cell_type": "markdown",
   "metadata": {},
   "source": [
    "FBD:\n",
    "\n",
    "<img src=\"images/P8-70a.png\"  width=\"200\" height=\"200\" />\n",
    "\n",
    "Find $F_B$ and $F_C$ from the FBD of the truck:\n",
    "\n",
    "$$\n",
    "\\begin{matrix}\n",
    "\\sum M_B = 0 & \\Rightarrow  & F_C (l_C-l_B) - W (l_E-l_B) =0  & \\Rightarrow  & F_C = \\frac{l_E-l_B}{l_C-l_B}W \\\\ \n",
    "\\sum F_y = 0  & \\Rightarrow   & F_B+F_C-W = 0 & \\Rightarrow  & F_B = W-F_C \n",
    "\\end{matrix}\n",
    "$$\n",
    "\n",
    "Construct the load function (using the [Dirac Delta](https://en.wikipedia.org/wiki/Dirac_delta_function)):\n",
    "\n",
    "$$w(x) = w_0 + F_B \\; \\delta(x-l_B) + F_C \\; \\delta(x-l_C)$$\n",
    "\n",
    "Then integrate to find $V(x)$:\n",
    "\n",
    "$$V(x) = \\int_{0}^{x}-w(x')dx'=\\left\\{\\begin{matrix}\n",
    "-w_0 x, & 0<x<l_B \\\\ \n",
    "-w_0 x -F_B, & l_B<x<l_C \\\\ \n",
    "-w_0 x -F_B-F_C, & l_C<x<L \n",
    "\\end{matrix}\\right.$$\n",
    "\n",
    "And integrate again to find $M(x)$:\n",
    "\n",
    "$$M(x) = \\int_{0}^{x}V(x')dx'=\\left\\{\\begin{matrix}\n",
    "M_1(x), & 0<x<l_B \\\\ \n",
    "M_2(x), & l_B<x<l_C \\\\ \n",
    "M_3(x), & l_C<x<L \n",
    "\\end{matrix}\\right.$$\n",
    "\n",
    "where\n",
    "\n",
    "$M_1(x)=\\int_{0}^{x}-w_0x'\\;dx'$\n",
    "\n",
    "$M_2(x)= M_1(l_B)+\\int_{l_B}^{x}\\left (-w_0x' -F_B \\right )\\;dx'$\n",
    "\n",
    "$M_3(x)= M_2(l_C)+\\int_{l_C}^{x}\\left (-w_0x' -F_B -F_C \\right )\\;dx'$\n",
    "\n",
    "Thus we have\n",
    "\n",
    "$M_1(x)= -\\tfrac{1}{2}w_0x^2$\n",
    "\n",
    "$\n",
    "\\begin{align}\n",
    "    M_2(x) & = -\\tfrac{1}{2}w_0l_B^2 + \\left [ -\\tfrac{1}{2}w_0x'^2-F_B x' \\right ]_{l_B}^{x} \\\\\n",
    "                & = -\\tfrac{1}{2}w_0x^2 -F_B x + F_B l_B\\\\\n",
    "\\end{align}$\n",
    "\n",
    "$\n",
    "\\begin{align}\n",
    "    M_3(x) & = -\\tfrac{1}{2}w_0l_C^2 +F_B(l_B-l_C) + \\left [ -\\tfrac{1}{2}w_0x'^2-(F_B+F_C) x' \\right ]_{l_C}^{x} \\\\\n",
    "                & = -\\tfrac{1}{2}w_0x^2 -(F_B+F_C) x + F_B l_B + F_C l_C\\\\\n",
    "\\end{align}$"
   ]
  },
  {
   "cell_type": "code",
   "execution_count": 32,
   "metadata": {},
   "outputs": [],
   "source": [
    "W = 10.0        # kN\n",
    "lB = 1.3        # m\n",
    "lC = lB + 2.7   # m\n",
    "L  = lC + 1.5   # m\n",
    "lE = 2.5        # m\n",
    "w0 = 1.0        # kN/m"
   ]
  },
  {
   "cell_type": "code",
   "execution_count": 33,
   "metadata": {},
   "outputs": [],
   "source": [
    "FC = (lE-lB)/(lC-lB) * W\n",
    "FB = W - FC"
   ]
  },
  {
   "cell_type": "code",
   "execution_count": 34,
   "metadata": {},
   "outputs": [
    {
     "data": {
      "text/plain": [
       "Text(0, 0.5, '$V(x)$ (kN)')"
      ]
     },
     "execution_count": 34,
     "metadata": {},
     "output_type": "execute_result"
    },
    {
     "data": {
      "image/png": "[encoded data removed]",
      "text/plain": [
       "<Figure size 432x288 with 1 Axes>"
      ]
     },
     "metadata": {
      "needs_background": "light"
     },
     "output_type": "display_data"
    }
   ],
   "source": [
    "# graph functions:\n",
    "x1 = linspace(0.,lB,100)\n",
    "x2 = linspace(lB,lC,100)\n",
    "x3 = linspace(lC, L,100)\n",
    "V1 = -w0*x1\n",
    "V2 = -w0*x2 - FB\n",
    "V3 = -w0*x3 - FB - FC\n",
    "grid()\n",
    "linestyle = {'color':'red', 'linewidth':2}\n",
    "plot( x1, V1, **linestyle)\n",
    "plot( [x1[-1],x2[0]], [V1[-1],V2[0]], **linestyle)  # vertical connecting line\n",
    "plot( x2, V2, **linestyle)\n",
    "plot( [x2[-1],x3[0]], [V2[-1],V3[0]], **linestyle)  # vertical connecting line\n",
    "plot( x3, V3, **linestyle)\n",
    "xlabel('$x$ (m)')\n",
    "ylabel('$V(x)$ (kN)')"
   ]
  },
  {
   "cell_type": "code",
   "execution_count": 35,
   "metadata": {},
   "outputs": [
    {
     "data": {
      "text/plain": [
       "Text(0, 0.5, '$M(x)$ (kN-m)')"
      ]
     },
     "execution_count": 35,
     "metadata": {},
     "output_type": "execute_result"
    },
    {
     "data": {
      "image/png": "[encoded data removed]",
      "text/plain": [
       "<Figure size 432x288 with 1 Axes>"
      ]
     },
     "metadata": {
      "needs_background": "light"
     },
     "output_type": "display_data"
    }
   ],
   "source": [
    "M1 = -0.5*w0*x1**2\n",
    "M2 = -0.5*w0*x2**2 - FB*x2 + FB*lB\n",
    "M3 = -0.5*w0*x3**2 - (FB+FC)*x3 + FB*lB + FC*lC\n",
    "grid()\n",
    "plot( x1, M1, **linestyle)\n",
    "plot( x2, M2, **linestyle)\n",
    "plot( x3, M3, **linestyle)\n",
    "xlabel('$x$ (m)')\n",
    "ylabel('$M(x)$ (kN-m)')"
   ]
  },
  {
   "cell_type": "markdown",
   "metadata": {},
   "source": [
    "<a name=\"K\"></a>\n",
    "\n",
    "##  K.\n",
    "\n",
    "<img src=\"images/P8-94.png\" />"
   ]
  },
  {
   "cell_type": "code",
   "execution_count": 36,
   "metadata": {},
   "outputs": [],
   "source": [
    "w1 = 4.8      # kN/m\n",
    "L = 2.55 *2   # m  (total length)"
   ]
  },
  {
   "cell_type": "markdown",
   "metadata": {},
   "source": [
    "$w(x) = w_1\\frac{x}{L} + A_y\\delta(x) + B_y\\delta(x-\\frac{L}{2}) $\n",
    "\n",
    "where $\\delta(x)$ is the [Dirac delta function](https://en.wikipedia.org/wiki/Dirac_delta_function).\n",
    "\n",
    "$V(x)= Ay - \\frac{w_1}{2L}x^2+By H(x-\\frac{L}{2})$\n",
    "\n",
    "where $H(x)$ is the [Heaviside step function](https://en.wikipedia.org/wiki/Heaviside_step_function).\n",
    "\n",
    "$M(x)=\\left\\{\\begin{matrix}\n",
    "A_yx-\\frac{w_1}{6L}x^3 & 0<x< \\frac{L}{2}\\\\ \n",
    "A_yx-\\frac{w_1}{6L}x^3 + B_y(x-\\frac{L}{2}) & \n",
    "\\frac{L}{2}<x< L\n",
    "\\end{matrix}\\right.$"
   ]
  },
  {
   "cell_type": "code",
   "execution_count": 37,
   "metadata": {},
   "outputs": [
    {
     "name": "stdout",
     "output_type": "stream",
     "text": [
      "answer:\n",
      "    V= -4.079999999999998  + ( -0.47058823529411764 )x^2   for 0<x< 2.55\n",
      "    M=( -4.079999999999998 )x + ( -0.1568627450980392 )x^3   for 0<x< 2.55\n"
     ]
    }
   ],
   "source": [
    "F = 0.5*w1*L\n",
    "By = F*4/3\n",
    "Ay = F - By\n",
    "v0 = Ay\n",
    "v1 = 0.\n",
    "v2 = -w1/2/L\n",
    "m0 = 0.\n",
    "m1 = Ay\n",
    "m2 = 0.\n",
    "m3 = -w1/(6*L)\n",
    "print ('answer:')\n",
    "print ('    V=',v0,' + (',v2,')x^2   for 0<x<',L/2)\n",
    "print ('    M=(',m1,')x + (',m3,')x^3   for 0<x<',L/2)"
   ]
  },
  {
   "cell_type": "code",
   "execution_count": 38,
   "metadata": {},
   "outputs": [
    {
     "data": {
      "text/plain": [
       "Text(0, 0.5, '$V(x)$ (kN)')"
      ]
     },
     "execution_count": 38,
     "metadata": {},
     "output_type": "execute_result"
    },
    {
     "data": {
      "image/png": "[encoded data removed]",
      "text/plain": [
       "<Figure size 432x288 with 1 Axes>"
      ]
     },
     "metadata": {
      "needs_background": "light"
     },
     "output_type": "display_data"
    }
   ],
   "source": [
    "v0 = Ay + By\n",
    "x = arange(L/2,L,0.1)\n",
    "v = v0 + v1*x + v2*x**2\n",
    "grid()\n",
    "plot( x, v, color='blue')\n",
    "xlabel('$x$ (m)')\n",
    "ylabel('$V(x)$ (kN)')"
   ]
  },
  {
   "cell_type": "code",
   "execution_count": 39,
   "metadata": {},
   "outputs": [
    {
     "data": {
      "text/plain": [
       "Text(0, 0.5, '$M(x)$ (kN-m)')"
      ]
     },
     "execution_count": 39,
     "metadata": {},
     "output_type": "execute_result"
    },
    {
     "data": {
      "image/png": "[encoded data removed]",
      "text/plain": [
       "<Figure size 432x288 with 1 Axes>"
      ]
     },
     "metadata": {
      "needs_background": "light"
     },
     "output_type": "display_data"
    }
   ],
   "source": [
    "m = m0 + m1*x + m2*x**2 + m3*x**3 + By*(x-L/2)\n",
    "grid()\n",
    "plot( x, m, color='blue')\n",
    "xlabel('$x$ (m)')\n",
    "ylabel('$M(x)$ (kN-m)')"
   ]
  }
 ],
 "metadata": {
  "kernelspec": {
   "display_name": "Python 3",
   "language": "python",
   "name": "python3"
  },
  "language_info": {
   "codemirror_mode": {
    "name": "ipython",
    "version": 3
   },
   "file_extension": ".py",
   "mimetype": "text/x-python",
   "name": "python",
   "nbconvert_exporter": "python",
   "pygments_lexer": "ipython3",
   "version": "3.7.1"
  }
 },
 "nbformat": 4,
 "nbformat_minor": 1
}
