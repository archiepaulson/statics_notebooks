{
 "cells": [
  {
   "cell_type": "markdown",
   "metadata": {},
   "source": [
    "### Jupyter Notebooks for Engineering Mechanics\n",
    "\n",
    "<a href=\"https://madisoncollege.edu/\">\n",
    "<img src=\"images/MC.svg\" align='right' style=\"height:100px\" />\n",
    "</a>\n",
    "\n",
    "# Statics\n",
    "\n",
    "Madison Area Technical College\n",
    "\n"
   ]
  },
  {
   "cell_type": "markdown",
   "metadata": {},
   "source": [
    "The following Jupyter notebooks are available for solving Statics problems.\n",
    "\n",
    "```\n",
    "examples01-unit_conversion.ipynb\n",
    "examples02-vectors.ipynb\n",
    "examples03-particle_eq.ipynb\n",
    "examples04-moments.ipynb\n",
    "examples05-body_eq.ipynb\n",
    "examples06-structures.ipynb\n",
    "examples07-internal.ipynb\n",
    "```\n",
    "\n",
    "Please contact [Archie Paulson](http://madisoncollegephysics.net/paulson_contact.html) with questions about these documents."
   ]
  },
  {
   "cell_type": "code",
   "execution_count": null,
   "metadata": {},
   "outputs": [],
   "source": []
  }
 ],
 "metadata": {
  "kernelspec": {
   "display_name": "Python 3",
   "language": "python",
   "name": "python3"
  },
  "language_info": {
   "codemirror_mode": {
    "name": "ipython",
    "version": 3
   },
   "file_extension": ".py",
   "mimetype": "text/x-python",
   "name": "python",
   "nbconvert_exporter": "python",
   "pygments_lexer": "ipython3",
   "version": "3.8.2"
  }
 },
 "nbformat": 4,
 "nbformat_minor": 4
}
